{
 "cells": [
  {
   "cell_type": "code",
   "execution_count": 108,
   "metadata": {},
   "outputs": [
    {
     "name": "stdout",
     "output_type": "stream",
     "text": [
      "   Chips Cooldrinks Chocolates         Pies    Cupcake  Veggies    Fruit\n",
      "0  Simba       Coke    Cadbury  Peper Stake    Vanilla  Spinach     Pear\n",
      "1   Lays      Fanta        Tex      Chicken  Chocolate  Cabbage    Apple\n",
      "2      -          -          -            -          -        -  oranges\n"
     ]
    }
   ],
   "source": [
    "# Import the library pandas and from it, it calls DataFrame\n",
    "import pandas as pd\n",
    "from pandas import DataFrame\n",
    "\n",
    "# Sets the names for the columns\n",
    "item_type = [\"Chips\",\"Cooldrinks\",\"Chocolates\",\"Pies\",\"Fruit\",\"Cupcake\",\"Veggies\"]\n",
    "\n",
    "# Groups the items together that will fall under their respective headings\n",
    "item_name  = [[\"Simba\",\"Lays\"], [\"Coke\",\"Fanta\"], [\"Cadbury\",\"Tex\"], \n",
    "         [\"Peper Stake\",\"Chicken\"], [\"Pear\",\"Apple\",\"oranges\"], \n",
    "         [\"Vanilla\",\"Chocolate\"], [\"Spinach\",\"Cabbage\"]]\n",
    "\n",
    "# Groups all the products together except Fruit.\n",
    "# The object Fruit contains three values and will break the DataFrame.\n",
    "product = {item_type[0]: item_name[0], item_type[1]: item_name[1], \n",
    "               item_type[2]: item_name[2], item_type[3]: item_name[3], \n",
    "               item_type[5]: item_name[5], item_type[6]: item_name[6]}\n",
    "\n",
    "# All_items contains all the product in a DataFrame.\n",
    "# The var fruit contains the object Fruit.\n",
    "all_items = pd.DataFrame(product)\n",
    "fruit = pd.DataFrame({item_type[4]: item_name[4]})\n",
    "\n",
    "# Completed_list concatenate the two dataframes.\n",
    "completed_list = pd.concat([all_items,fruit], ignore_index=False, axis=1)\n",
    "\n",
    "# The function .fillna() removes the variables NaN that result from\n",
    "# concatenating the two objects.\n",
    "print(completed_list.fillna(\"-\"))"
   ]
  },
  {
   "cell_type": "code",
   "execution_count": null,
   "metadata": {},
   "outputs": [],
   "source": []
  }
 ],
 "metadata": {
  "kernelspec": {
   "display_name": "Python 3",
   "language": "python",
   "name": "python3"
  },
  "language_info": {
   "codemirror_mode": {
    "name": "ipython",
    "version": 3
   },
   "file_extension": ".py",
   "mimetype": "text/x-python",
   "name": "python",
   "nbconvert_exporter": "python",
   "pygments_lexer": "ipython3",
   "version": "3.7.4"
  }
 },
 "nbformat": 4,
 "nbformat_minor": 2
}
